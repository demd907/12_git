{
  "cells": [
    {
      "cell_type": "markdown",
      "metadata": {
        "id": "X0aN2MzlFxQ7"
      },
      "source": [
        "안녕하세요. 수강생 여러분~! Chapter21 ~ 32 수업은 잘 들으셨나요?\n",
        "\n",
        "Chapter21 ~ 32의 수업 내용을 바탕으로 아래 문제를 풀어주시면 됩니다.\n",
        "\n",
        "\n",
        "<br>\n",
        "\n",
        "\n",
        "[**답변 입력 방법**]\n",
        "\n",
        "문제 아래에 있는 코드 입력창에 정답코드를 작성하신 후  __▷ 버튼을 클릭해 코드를 실행__ 해보세요<br>"
      ]
    },
    {
      "cell_type": "markdown",
      "metadata": {
        "id": "6XjO8rViFxQ-"
      },
      "source": [
        "---"
      ]
    },
    {
      "cell_type": "markdown",
      "metadata": {
        "id": "1CAoVUqzFxQ-"
      },
      "source": [
        "[문제 1]\n",
        "사용자로부터 이름과 나이를 입력 받아, \"안녕하세요, [이름]님! 당신은 [나이]살입니다.\"라고 출력하는 함수 greet_user를 작성하세요."
      ]
    },
    {
      "cell_type": "markdown",
      "metadata": {
        "id": "OOD3YbGNFxQ_"
      },
      "source": [
        "def greet_user():\n",
        "    name = input('이름 입력!')\n",
        "    age = input('나이 입력!')\n",
        "    print(f'안녕하세요{name}님! 당신은 {age}살입니다.')\n",
        "\n",
        "greet_user()"
      ]
    },
    {
      "cell_type": "code",
      "source": [
        "def greet_user():\n",
        "    name = input('이름 입력!')\n",
        "    age = input('나이 입력!')\n",
        "    print(f'안녕하세요{name}님! 당신은 {age}살입니다.')"
      ],
      "metadata": {
        "id": "_ddM2p8hGq0R"
      },
      "execution_count": null,
      "outputs": []
    },
    {
      "cell_type": "markdown",
      "metadata": {
        "id": "AaYrXUTHFxQ_"
      },
      "source": [
        "[문제 2] 여러 숫자를 입력받아 그 합계를 반환하는 함수 sum_numbers를 작성하세요. 이 때, 가변 매개변수를 사용하세요."
      ]
    },
    {
      "cell_type": "markdown",
      "metadata": {
        "id": "PY2MQ0b3FxRA"
      },
      "source": [
        "---"
      ]
    },
    {
      "cell_type": "code",
      "source": [
        "def sum_numbers(num1, num2):\n",
        "    print(num1 + num2)\n",
        "\n",
        "sum_numbers(3, 15)"
      ],
      "metadata": {
        "colab": {
          "base_uri": "https://localhost:8080/"
        },
        "id": "pzPlfRq7G8ye",
        "outputId": "403a1279-a747-4460-bcac-851ea11c6a40"
      },
      "execution_count": null,
      "outputs": [
        {
          "output_type": "stream",
          "name": "stdout",
          "text": [
            "18\n"
          ]
        }
      ]
    },
    {
      "cell_type": "markdown",
      "metadata": {
        "id": "-vjloPYTFxRA"
      },
      "source": [
        "[문제 3] 사용자의 이름을 출력하는 함수 print_name을 작성하세요. 만약 이름이 주어지지 않았다면, 기본값으로 \"익명\"을 사용하세요."
      ]
    },
    {
      "cell_type": "code",
      "source": [
        "def print_name(name):\n",
        "    print(f'사용자 이름: {name}')\n",
        "\n",
        "print_name('익명')"
      ],
      "metadata": {
        "colab": {
          "base_uri": "https://localhost:8080/"
        },
        "id": "p3XHwt_dHLYJ",
        "outputId": "da8f53f3-9c89-4622-eba5-c0621353a76b"
      },
      "execution_count": null,
      "outputs": [
        {
          "output_type": "stream",
          "name": "stdout",
          "text": [
            "사용자 이름: 익명\n"
          ]
        }
      ]
    },
    {
      "cell_type": "markdown",
      "metadata": {
        "id": "0I9G_mbrFxRB"
      },
      "source": [
        "---"
      ]
    },
    {
      "cell_type": "markdown",
      "metadata": {
        "id": "1oJQeTH_FxRB"
      },
      "source": [
        "[문제 4] 사용자의 이름, 나이, 성별을 출력하는 함수 print_info를 작성하세요. 이 때, 모든 매개변수는 키워드 매개변수로만 받도록 하세요."
      ]
    },
    {
      "cell_type": "code",
      "source": [
        "def print_info(name, age, gender):\n",
        "    print(f'이름: {name}, 나이: {age}, 성별: {gender}')\n",
        "\n",
        "print_info(name='강산해',age='22',gender='남자')"
      ],
      "metadata": {
        "colab": {
          "base_uri": "https://localhost:8080/"
        },
        "id": "6S9nhbXtHHCN",
        "outputId": "63f3e8d9-6081-4baf-8e49-c63849642c76"
      },
      "execution_count": null,
      "outputs": [
        {
          "output_type": "stream",
          "name": "stdout",
          "text": [
            "이름: 강산해, 나이: 22, 성별: 남자\n"
          ]
        }
      ]
    },
    {
      "cell_type": "markdown",
      "metadata": {
        "id": "g7g_Q5ZJFxRB"
      },
      "source": [
        "---"
      ]
    },
    {
      "cell_type": "markdown",
      "metadata": {
        "id": "p-AC_IXdFxRB"
      },
      "source": [
        "[문제 5] 두 개의 정수를 받아 합을 반환하는 함수 add를 작성하세요. 매개변수와 반환값에 타입 어노테이션을 추가하세요."
      ]
    },
    {
      "cell_type": "code",
      "source": [
        "def add(a:int, b:int):\n",
        "    return a+b\n",
        "\n",
        "add(5, 5)"
      ],
      "metadata": {
        "colab": {
          "base_uri": "https://localhost:8080/"
        },
        "id": "CG25gwYVHcaD",
        "outputId": "c51d68e8-aa3c-4a9a-dbec-936018614384"
      },
      "execution_count": null,
      "outputs": [
        {
          "output_type": "execute_result",
          "data": {
            "text/plain": [
              "10"
            ]
          },
          "metadata": {},
          "execution_count": 8
        }
      ]
    },
    {
      "cell_type": "markdown",
      "metadata": {
        "id": "pbk9w6RrFxRB"
      },
      "source": [
        "---"
      ]
    },
    {
      "cell_type": "markdown",
      "metadata": {
        "id": "DZi9NE9xFxRC"
      },
      "source": [
        "[문제 6] 0부터 시작하여 n까지의 숫자 중에서 홀수만 생성하는 제너레이터 odd_numbers를 작성하세요."
      ]
    },
    {
      "cell_type": "code",
      "source": [
        "def odd_numbers(n):\n",
        "    for i in range(n + 1):\n",
        "        if i % 2 == 1:\n",
        "            yield i\n",
        "\n",
        "gen = odd_numbers(10)\n",
        "\n",
        "for num in gen:\n",
        "    print(num, end=' ')"
      ],
      "metadata": {
        "colab": {
          "base_uri": "https://localhost:8080/"
        },
        "id": "Ny4sYJ0OHdiZ",
        "outputId": "fd840169-98ed-47b0-e4e0-43e8e13b7ca1"
      },
      "execution_count": null,
      "outputs": [
        {
          "output_type": "stream",
          "name": "stdout",
          "text": [
            "1 3 5 7 9 "
          ]
        }
      ]
    },
    {
      "cell_type": "markdown",
      "metadata": {
        "id": "NqqykbzpFxRC"
      },
      "source": [
        "---"
      ]
    },
    {
      "cell_type": "markdown",
      "metadata": {
        "id": "lSic1DBFFxRC"
      },
      "source": [
        "[문제 7] 두 숫자를 더하는 람다 함수를 작성하고, 이를 변수에 할당한 후 사용하세요."
      ]
    },
    {
      "cell_type": "code",
      "source": [
        "sum_numbers = lambda x,y : x + y\n",
        "\n",
        "list1 = [3]\n",
        "list2 = [4]\n",
        "\n",
        "result = map(sum_numbers,list1,list2)\n",
        "\n",
        "print(list(result))"
      ],
      "metadata": {
        "colab": {
          "base_uri": "https://localhost:8080/"
        },
        "id": "rwJrk0BuHfUI",
        "outputId": "f031557c-4885-4feb-857a-ecb670dba23f"
      },
      "execution_count": null,
      "outputs": [
        {
          "output_type": "stream",
          "name": "stdout",
          "text": [
            "[7]\n"
          ]
        }
      ]
    },
    {
      "cell_type": "markdown",
      "metadata": {
        "id": "rSPFFNfdFxRC"
      },
      "source": [
        "---"
      ]
    },
    {
      "cell_type": "markdown",
      "metadata": {
        "id": "L8gLzRszFxRC"
      },
      "source": [
        "[문제 8] 사용자로부터 3개의 숫자를 입력받아, 이를 튜플로 만든 후 최소값과 최대값을 출력하는 함수 min_max를 작성하세요."
      ]
    },
    {
      "cell_type": "code",
      "source": [
        "def min_max():\n",
        "    a = int(input())\n",
        "    b = int(input())\n",
        "    c = int(input())\n",
        "\n",
        "    num = (a, b, c)\n",
        "\n",
        "    print(f'최소값:{min(num)}')\n",
        "    print(f'최대값{max(num)}')\n",
        "\n",
        "\n",
        "min_max()"
      ],
      "metadata": {
        "colab": {
          "base_uri": "https://localhost:8080/"
        },
        "id": "bkN6nY30HihB",
        "outputId": "fa5f9353-2fc0-42fb-fba3-cd2e777969b0"
      },
      "execution_count": null,
      "outputs": [
        {
          "output_type": "stream",
          "name": "stdout",
          "text": [
            "3\n",
            "2\n",
            "1\n",
            "최소값:1\n",
            "최대값3\n"
          ]
        }
      ]
    },
    {
      "cell_type": "markdown",
      "metadata": {
        "id": "Qm0lBcTnFxRC"
      },
      "source": [
        "---"
      ]
    },
    {
      "cell_type": "markdown",
      "metadata": {
        "id": "3IEjo_W_FxRC"
      },
      "source": [
        "[문제 9] 주어진 숫자가 짝수인지 확인하는 함수 is_even을 작성하세요. 짝수라면 True를, 아니라면 False를 반환하세요. 함수 내에서 조기 리턴을 활용하세요."
      ]
    },
    {
      "cell_type": "code",
      "source": [
        "def is_even(n):\n",
        "    if n % 2 == 0:\n",
        "        return True\n",
        "    return False\n",
        "\n",
        "print(is_even(5))"
      ],
      "metadata": {
        "colab": {
          "base_uri": "https://localhost:8080/"
        },
        "id": "l1rl0byyHjnm",
        "outputId": "689d3653-689a-43c4-c2f8-0e7d53158e7e"
      },
      "execution_count": null,
      "outputs": [
        {
          "output_type": "stream",
          "name": "stdout",
          "text": [
            "False\n"
          ]
        }
      ]
    },
    {
      "cell_type": "markdown",
      "metadata": {
        "id": "ISHL0yWNFxRC"
      },
      "source": [
        "---"
      ]
    },
    {
      "cell_type": "markdown",
      "metadata": {
        "id": "l7tc6gdpFxRC"
      },
      "source": [
        "[문제 10] 팩토리얼을 계산하는 재귀 함수 factorial을 작성하세요."
      ]
    },
    {
      "cell_type": "code",
      "source": [
        "def factorial(n):\n",
        "    if n == 0 or n == 1:\n",
        "        return 1\n",
        "    else:\n",
        "        return n * factorial(n - 1)"
      ],
      "metadata": {
        "id": "Gm-fgprWHkqT"
      },
      "execution_count": null,
      "outputs": []
    },
    {
      "cell_type": "markdown",
      "metadata": {
        "id": "6AC99__6FxRC"
      },
      "source": [
        "---"
      ]
    },
    {
      "cell_type": "markdown",
      "metadata": {
        "id": "bPy8Sor-FxRC"
      },
      "source": [
        "[문제 11] 문자열 리스트를 받아, 각 문자열의 길이를 출력하는 함수 print_lengths를 작성하세요."
      ]
    },
    {
      "cell_type": "code",
      "source": [
        "def print_lengths():\n",
        "    words = input('쉼표로 구분하여 단어들을 입력해주세요').split(',')\n",
        "\n",
        "    for word in words:\n",
        "        print(f\"{word} → 길이: {len(word)}\")\n",
        "\n",
        "print_lengths()"
      ],
      "metadata": {
        "colab": {
          "base_uri": "https://localhost:8080/"
        },
        "id": "mnWfGo_2Hl3V",
        "outputId": "89eb339b-02fa-49d7-838c-5ee838e0a45a"
      },
      "execution_count": null,
      "outputs": [
        {
          "output_type": "stream",
          "name": "stdout",
          "text": [
            "쉼표로 구분하여 단어들을 입력해주세요안녕,방가워,뭐해\n",
            "안녕 → 길이: 2\n",
            "방가워 → 길이: 3\n",
            "뭐해 → 길이: 2\n"
          ]
        }
      ]
    },
    {
      "cell_type": "markdown",
      "metadata": {
        "id": "w_Sqap3nFxRC"
      },
      "source": [
        "---"
      ]
    },
    {
      "cell_type": "markdown",
      "metadata": {
        "id": "EFAACyvxFxRD"
      },
      "source": [
        "[문제 12] 두 문자열을 받아서 긴 문자열을 반환하는 함수 longer_string을 작성하세요. 만약 두 문자열의 길이가 같다면, 첫 번째 문자열을 반환하세요."
      ]
    },
    {
      "cell_type": "code",
      "source": [
        "def longer_string(str1, str2):\n",
        "    if len(str1) >= len(str2):\n",
        "        return str1\n",
        "    else:\n",
        "        return str2\n",
        "\n",
        "print(longer_string(\"apple\", \"banana\"))\n"
      ],
      "metadata": {
        "colab": {
          "base_uri": "https://localhost:8080/"
        },
        "id": "-Tsla0vjHm8p",
        "outputId": "3ad4e713-e6f3-4870-f465-177f73be3f81"
      },
      "execution_count": null,
      "outputs": [
        {
          "output_type": "stream",
          "name": "stdout",
          "text": [
            "banana\n"
          ]
        }
      ]
    }
  ],
  "metadata": {
    "language_info": {
      "name": "python"
    },
    "colab": {
      "provenance": [],
      "cell_execution_strategy": "setup"
    },
    "kernelspec": {
      "name": "python3",
      "display_name": "Python 3"
    }
  },
  "nbformat": 4,
  "nbformat_minor": 0
}