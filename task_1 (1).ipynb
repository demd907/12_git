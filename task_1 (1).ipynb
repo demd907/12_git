{
  "cells": [
    {
      "cell_type": "markdown",
      "metadata": {
        "id": "HRyq1H05nY0Q"
      },
      "source": [
        "안녕하세요. 수강생 여러분~! Chapter33 ~ 41 수업은 잘 들으셨나요?\n",
        "\n",
        "Chapter33 ~ 41의 수업 내용을 바탕으로 아래 문제를 풀어주시면 됩니다.\n",
        "\n",
        "\n",
        "<br>\n",
        "\n",
        "\n",
        "[**답변 입력 방법**]\n",
        "\n",
        "문제 아래에 있는 코드 입력창에 정답코드를 작성하신 후  __▷ 버튼을 클릭해 코드를 실행__ 해보세요<br>"
      ]
    },
    {
      "cell_type": "markdown",
      "metadata": {
        "id": "TSo_pRK4nY0S"
      },
      "source": [
        "---"
      ]
    },
    {
      "cell_type": "markdown",
      "metadata": {
        "id": "dNKcm0oenY0S"
      },
      "source": [
        "[문제 1]\n",
        "\n",
        "사용자로부터 두 개의 숫자를 입력받아 나눗셈을 수행하는 프로그램을 작성하세요.\n",
        "\n",
        "[예외처리]\n",
        "- 입력 값이 숫자가 아닐 때 발생할 수 있는 ValueError\n",
        "- 나누는 수가 0일 때 발생할 수 있는 ZeroDivisionError\n",
        "- 위 2가지 예외처리 후 사용자에게 이해하기 쉬운 메시지 작성 후 출력되도록 코드를 작성"
      ]
    },
    {
      "cell_type": "code",
      "source": [
        "try:\n",
        "    a = int(input(\"첫 번째 숫자를 입력하세요: \"))\n",
        "    b = int(input(\"두 번째 숫자를 입력하세요: \"))\n",
        "    print(a / b)\n",
        "except ValueError:\n",
        "    print(\"숫자만 입력해야 합니다.\")\n",
        "except ZeroDivisionError:\n",
        "    print(\"0으로 나눌 수 없습니다.\")"
      ],
      "metadata": {
        "colab": {
          "base_uri": "https://localhost:8080/"
        },
        "id": "mO_7iEUQncoK",
        "outputId": "85142051-8bb5-4649-8356-f3432df64d8a"
      },
      "execution_count": 1,
      "outputs": [
        {
          "output_type": "stream",
          "name": "stdout",
          "text": [
            "첫 번째 숫자를 입력하세요: 3\n",
            "두 번째 숫자를 입력하세요: 4\n",
            "0.75\n"
          ]
        }
      ]
    },
    {
      "cell_type": "markdown",
      "metadata": {
        "id": "iOA9Sd8ZnY0S"
      },
      "source": [
        "---"
      ]
    },
    {
      "cell_type": "markdown",
      "metadata": {
        "id": "m4nPlmEUnY0T"
      },
      "source": [
        "[문제 2]\n",
        "\n",
        "파일을 읽어서 내용을 출력하는 프로그램을 작성하세요.\n",
        "\n",
        "- 파일이 존재하지 않을 때 발생하는 FileNotFoundError를 처리\n",
        "- 파일이 존재하지 않을 경우 \"파일을 찾을 수 없습니다.\"라는 메시지를 출력"
      ]
    },
    {
      "cell_type": "code",
      "execution_count": 5,
      "metadata": {
        "colab": {
          "base_uri": "https://localhost:8080/"
        },
        "id": "YehK8sfonY0T",
        "outputId": "7fdc2a4a-e6b0-4fbb-b054-433954aa7c11"
      },
      "outputs": [
        {
          "output_type": "stream",
          "name": "stdout",
          "text": [
            "파일을 찾을 수 없습니다.\n"
          ]
        }
      ],
      "source": [
        "try:\n",
        "    with open('myfile.txt', 'r') as f:\n",
        "        print(f.read())\n",
        "except FileNotFoundError:\n",
        "    print(\"파일을 찾을 수 없습니다.\")"
      ]
    },
    {
      "cell_type": "markdown",
      "metadata": {
        "id": "AtJizxKvnY0T"
      },
      "source": [
        "---"
      ]
    },
    {
      "cell_type": "markdown",
      "metadata": {
        "id": "j8yjjW3bnY0T"
      },
      "source": [
        "[문제 3]\n",
        "\n",
        "사용자로부터 여러 개의 숫자를 입력받아 리스트에 저장한 후, 사용자가 'done'이라고 입력할 때까지 계속 입력받으세요.\n",
        "\n",
        "- 입력 중 숫자가 아닌 값이 입력되면 ValueError를 처리\n",
        "- 숫자 외 값이 입력된 경우 어떤 값이 잘못 입력되었는지 사용자에게 알려주는 문구 출력<br>\n",
        "  (예: f\"잘못된 값: {변수}. 숫자를 입력해주세요.\")\n",
        "\n"
      ]
    },
    {
      "cell_type": "code",
      "execution_count": 6,
      "metadata": {
        "colab": {
          "base_uri": "https://localhost:8080/"
        },
        "id": "GJp6yD4gnY0T",
        "outputId": "a4972a6f-2945-4664-f2c0-76a88b1797ab"
      },
      "outputs": [
        {
          "name": "stdout",
          "output_type": "stream",
          "text": [
            "숫자를 입력하세요 ('done'이면 종료): done\n"
          ]
        }
      ],
      "source": [
        "numbers = []\n",
        "while True:\n",
        "    try:\n",
        "        line = input(\"숫자를 입력하세요 ('done'이면 종료): \")\n",
        "        if line == 'done':\n",
        "            break\n",
        "        numbers.append(int(line))\n",
        "    except ValueError:\n",
        "        print(f\"잘못된 값: {line}. 숫자를 입력해주세요.\")"
      ]
    },
    {
      "cell_type": "markdown",
      "metadata": {
        "id": "g1vw7VTAnY0U"
      },
      "source": [
        "---"
      ]
    },
    {
      "cell_type": "markdown",
      "metadata": {
        "id": "bIJBq2VJnY0U"
      },
      "source": [
        "[문제 4]\n",
        "\n",
        "사용자 정의 예외 NegativeNumberError를 생성하고, 사용자로부터 숫자를 입력받아 음수일 경우 NegativeNumberError를 발생시키는 프로그램을 작성하세요.\n",
        "\n",
        "- 예외 처리 구문을 사용하여 음수 입력 시 \"양수를 입력해주세요.\"라는 메시지를 출력"
      ]
    },
    {
      "cell_type": "code",
      "execution_count": 7,
      "metadata": {
        "colab": {
          "base_uri": "https://localhost:8080/"
        },
        "id": "JFdnqAtMnY0U",
        "outputId": "8db83b37-e9ce-4da2-cfe7-d95abbdf0ddb"
      },
      "outputs": [
        {
          "name": "stdout",
          "output_type": "stream",
          "text": [
            "양수를 입력하세요: 1\n"
          ]
        }
      ],
      "source": [
        "class NegativeNumberError(Exception):\n",
        "    def __init__(self, message) -> None:\n",
        "        self.contact_name = \"NegativeNumberError\"\n",
        "        self.message = message\n",
        "        super().__init__(message)\n",
        "\n",
        "    def __str__(self) -> str:\n",
        "        return f\"{self.contact_name} : {self.message}\"\n",
        "\n",
        "try:\n",
        "    number = int(input(\"양수를 입력하세요: \"))\n",
        "    if number < 0:\n",
        "        raise NegativeNumberError(\"음수가 입력되었습니다. 양수를 입력해주세요!\")\n",
        "except NegativeNumberError as e:\n",
        "    print(e)"
      ]
    },
    {
      "cell_type": "markdown",
      "metadata": {
        "id": "jaS83UwOnY0U"
      },
      "source": [
        "---"
      ]
    },
    {
      "cell_type": "markdown",
      "metadata": {
        "id": "6d-y0ID8nY0U"
      },
      "source": [
        "[문제 5]\n",
        "\n",
        "datetime 모듈을 사용하여 현재 날짜와 시간을 출력하는 프로그램을 작성하세요.\n",
        "\n",
        "또한, 사용자로부터 태어난 년도를 입력받아 현재 나이를 계산하여 출력하세요."
      ]
    },
    {
      "cell_type": "code",
      "execution_count": 8,
      "metadata": {
        "colab": {
          "base_uri": "https://localhost:8080/"
        },
        "id": "e-rZft2znY0U",
        "outputId": "76638476-100f-4687-e544-ebe019206aac"
      },
      "outputs": [
        {
          "output_type": "stream",
          "name": "stdout",
          "text": [
            "현재 날짜와 시간: 2025-06-10 02:17:04.518350\n",
            "태어난 년도를 입력하세요: 2004\n",
            "현재 나이: 21\n"
          ]
        }
      ],
      "source": [
        "from datetime import datetime\n",
        "\n",
        "now = datetime.now()\n",
        "print(\"현재 날짜와 시간:\", now)\n",
        "\n",
        "birth_year = int(input(\"태어난 년도를 입력하세요: \"))\n",
        "age = now.year - birth_year\n",
        "print(\"현재 나이:\", age)"
      ]
    },
    {
      "cell_type": "markdown",
      "metadata": {
        "id": "tVUVWLYQnY0U"
      },
      "source": [
        "---"
      ]
    },
    {
      "cell_type": "markdown",
      "metadata": {
        "id": "5L35Iru6nY0U"
      },
      "source": [
        "[문제 6]\n",
        "\n",
        "requests 모듈을 사용하여, 웹 페이지의 HTML을 가져오는 간단한 웹 스크레이퍼를 작성하세요.\n",
        "\n",
        "'https://kream.co.kr/'에서<br>\n",
        "데이터를 가져와서 상태 코드와 HTML의 첫 100자를 출력하세요.<br>\n",
        "(실습 전 requests 모듈을 설치해야 함)"
      ]
    },
    {
      "cell_type": "code",
      "execution_count": 10,
      "metadata": {
        "colab": {
          "base_uri": "https://localhost:8080/"
        },
        "id": "XQ7Jq-N4nY0U",
        "outputId": "5f08a4cb-ba08-4db2-b966-9b71f46c2ebf"
      },
      "outputs": [
        {
          "output_type": "stream",
          "name": "stdout",
          "text": [
            "상태 코드: 200\n",
            "HTML 내용 (첫 100자): <!doctype html>\n",
            "<html>\n",
            "<head>\n",
            "    <title>Example Domain</title>\n",
            "\n",
            "    <meta charset=\"utf-8\" />\n",
            "    <m\n"
          ]
        }
      ],
      "source": [
        "import requests\n",
        "\n",
        "response = requests.get('https://example.com')\n",
        "print(\"상태 코드:\", response.status_code)\n",
        "print(\"HTML 내용 (첫 100자):\", response.text[:100])"
      ]
    },
    {
      "cell_type": "markdown",
      "metadata": {
        "id": "AJyDf4EBnY0U"
      },
      "source": [
        "---"
      ]
    },
    {
      "cell_type": "markdown",
      "metadata": {
        "id": "04PK9tlInY0U"
      },
      "source": [
        "[문제 7]\n",
        "\n",
        "함수 실행 시간을 측정하는 데코레이터 timer_decorator를 작성하세요.\n",
        "\n",
        "임의의 함수가 실행되는 시간을 측정하여 \"함수 실행 시간: x.xx초\" 형태로 출력하세요."
      ]
    },
    {
      "cell_type": "code",
      "execution_count": 12,
      "metadata": {
        "id": "qAz7gtkZnY0U"
      },
      "outputs": [],
      "source": [
        "import time\n",
        "\n",
        "def timer_decorator(func):\n",
        "    def wrapper(*args, **kwargs):\n",
        "        start_time = time.time()\n",
        "        result = func(*args, **kwargs)\n",
        "        end_time = time.time()\n",
        "        print(f\"함수 실행 시간: {end_time - start_time:.2f}초\")\n",
        "        return result\n",
        "    return wrapper"
      ]
    },
    {
      "cell_type": "markdown",
      "metadata": {
        "id": "3SsDRiA1nY0U"
      },
      "source": [
        "---"
      ]
    },
    {
      "cell_type": "markdown",
      "metadata": {
        "id": "RDM2AJWmnY0U"
      },
      "source": [
        "[문제 8]\n",
        "\n",
        "여러분이 자주 사용하는 수학적 연산<br>\n",
        "(예: 삼각형 넓이, 원의 넓이, 직육면체의 넓이)을 수행하는 함수들을 포함하는 mymath.py라는 이름의 모듈을 만드세요.\n",
        "\n",
        "이 모듈을 사용하여 작성된 함수들을 실제로 임포트하고 사용하는 간단한 프로그램을 작성하세요."
      ]
    },
    {
      "cell_type": "code",
      "execution_count": 17,
      "metadata": {
        "id": "lH3-vNZTnY0U"
      },
      "outputs": [],
      "source": [
        "def triangle_area(base, height):\n",
        "    return 0.5 * base * height\n",
        "\n",
        "def circle_area(radius):\n",
        "    return math.pi * radius ** 2\n",
        "\n",
        "def cuboid_area(length, width, height):\n",
        "    return 2 * (length * width + width * height + height * length)"
      ]
    },
    {
      "cell_type": "code",
      "source": [
        "from mymath import average, median, std_dev\n",
        "\n",
        "numbers = [1, 2, 3, 4, 5]\n",
        "\n",
        "triangle_area(3, 10)\n",
        "print(\"삼각형의 넓이:\", triangle_area(base, height))\n",
        "\n",
        "circle_area(4)\n",
        "print(\"원의 넓이:\", circle_area(radius))\n",
        "\n",
        "cuboid_area(5, 10, 4)\n",
        "print(\"직육면체 넓이:\", cuboid_area(length, width, height))"
      ],
      "metadata": {
        "id": "BjE4vMUopUuV"
      },
      "execution_count": null,
      "outputs": []
    },
    {
      "cell_type": "markdown",
      "metadata": {
        "id": "ANrmieqenY0U"
      },
      "source": [
        "---"
      ]
    },
    {
      "cell_type": "markdown",
      "metadata": {
        "id": "cdTDaYEPnY0V"
      },
      "source": [
        "[문제 9]\n",
        "\n",
        "animals라는 패키지를 만들고, 이 패키지 내에 mammals, birds라는 두 개의 서브 모듈을 생성하세요.\n",
        "\n",
        "- 각 모듈에는 최소한 한 개 이상의 동물에 관한 클래스를 정의하세요<br>\n",
        "  (예: mammals에는 Dog, birds에는 Eagle)\n",
        "- 이 패키지와 모듈을 사용하여 동물들의 정보를 출력하는 프로그램을 작성\n",
        "\n",
        "폴더 및 파일 구조\n",
        "```\n",
        "animals/(폴더)\n",
        "├── __init__.py\n",
        "├── mammals.py\n",
        "└── birds.py\n",
        "```\n"
      ]
    },
    {
      "cell_type": "code",
      "execution_count": null,
      "metadata": {
        "id": "kMCQjmq_nY0V"
      },
      "outputs": [],
      "source": [
        "def speak(self):\n",
        "    return \"멍멍!\"\n",
        "\n",
        "def __str__(self):\n",
        "    return \"Dog\""
      ]
    },
    {
      "cell_type": "code",
      "execution_count": null,
      "metadata": {
        "id": "rGwb53d4nY0V"
      },
      "outputs": [],
      "source": [
        "def speak(self):\n",
        "    return \"소리질러!\"\n",
        "\n",
        "def __str__(self):\n",
        "    return \"Eagle\""
      ]
    },
    {
      "cell_type": "code",
      "execution_count": null,
      "metadata": {
        "id": "lsvWGk6unY0V"
      },
      "outputs": [],
      "source": [
        "from animals.mammals import Dog\n",
        "from animals.birds import Eagle\n",
        "\n",
        "dog = Dog()\n",
        "print"
      ]
    },
    {
      "cell_type": "markdown",
      "metadata": {
        "id": "IgHl1cUMnY0V"
      },
      "source": [
        "---"
      ]
    }
  ],
  "metadata": {
    "language_info": {
      "name": "python"
    },
    "colab": {
      "provenance": []
    },
    "kernelspec": {
      "name": "python3",
      "display_name": "Python 3"
    }
  },
  "nbformat": 4,
  "nbformat_minor": 0
}