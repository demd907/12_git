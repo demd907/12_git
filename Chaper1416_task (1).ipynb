{
  "cells": [
    {
      "cell_type": "markdown",
      "metadata": {
        "id": "BX7SgOeWu86I"
      },
      "source": [
        "안녕하세요. 수강생 여러분~! Chapter14 ~ 16 수업은 잘 들으셨나요?\n",
        "\n",
        "Chapter14 ~ 16의 수업 내용을 바탕으로 아래 문제를 풀어주시면 됩니다.\n",
        "\n",
        "<br>\n",
        "\n",
        "\n",
        "[**답변 입력 방법**]\n",
        "\n",
        "문제 아래에 있는 코드 입력창에 정답코드를 작성하신 후  __▷ 버튼을 클릭해 코드를 실행__ 해보세요<br>"
      ]
    },
    {
      "cell_type": "markdown",
      "metadata": {
        "id": "fPi6CFFSzXBq"
      },
      "source": [
        "---"
      ]
    },
    {
      "cell_type": "markdown",
      "metadata": {
        "id": "7kQJMRuFu-6s"
      },
      "source": [
        "__[문제1]__\n",
        "\n",
        "주어진 정수 x와 자연수 n을 이용해, x부터 시작해 x씩 증가하는 숫자를 n개 지니는 리스트를 출력해주세요   \n",
        "<br>\n",
        "\n",
        "x = 2, n =5"
      ]
    },
    {
      "cell_type": "code",
      "execution_count": null,
      "metadata": {
        "id": "juUF2KYbu0DX",
        "colab": {
          "base_uri": "https://localhost:8080/"
        },
        "outputId": "b1b08be9-d122-4b2c-cd6f-d17ed0812f40"
      },
      "outputs": [
        {
          "output_type": "stream",
          "name": "stdout",
          "text": [
            "[2, 3, 4, 5, 6]\n"
          ]
        }
      ],
      "source": [
        "x = 2\n",
        "n = 5\n",
        "result = [x + i for i in range(n)]\n",
        "print(result)\n"
      ]
    },
    {
      "cell_type": "markdown",
      "metadata": {
        "id": "us9OGmKfzXBr"
      },
      "source": [
        "---"
      ]
    },
    {
      "cell_type": "markdown",
      "metadata": {
        "id": "4BPXMLXUvBVL"
      },
      "source": [
        "__[문제2]__\n",
        "\n",
        "전화번호가 문자열 phone_number로 주어졌을 때, 전화번호의 뒷 4자리를 *으로 가린 문자열이 출력되도록 코드를 작성해주세요\n",
        "\n",
        "phone_number = \"01012347890\"  \n",
        "<br>\n",
        "\n",
        "출력 예) \"0101234****\""
      ]
    },
    {
      "cell_type": "code",
      "source": [],
      "metadata": {
        "id": "s1hEgYOjd14u"
      },
      "execution_count": null,
      "outputs": []
    },
    {
      "cell_type": "code",
      "execution_count": null,
      "metadata": {
        "id": "P0fY7CYUvC_j",
        "colab": {
          "base_uri": "https://localhost:8080/"
        },
        "outputId": "d695d5c9-f61c-41b5-94f5-b32f3b5616b1"
      },
      "outputs": [
        {
          "output_type": "stream",
          "name": "stdout",
          "text": [
            "0101234****\n"
          ]
        }
      ],
      "source": [
        "phone_number = \"01012347890\"\n",
        "masked_number = phone_number[:-4] + \"****\"\n",
        "print(masked_number)"
      ]
    },
    {
      "cell_type": "markdown",
      "metadata": {
        "id": "cQFxO8jbzXBs"
      },
      "source": [
        "---"
      ]
    },
    {
      "cell_type": "markdown",
      "metadata": {
        "id": "uUdOU9cFvDsq"
      },
      "source": [
        "__[문제3]__\n",
        "\n",
        "숫자를 건넬 때 일부 자릿수를 영단어로 바꾼 카드를 건네주면 프로도는 원래 숫자를 찾는 게임입니다.\n",
        "\n",
        "다음은 숫자의 일부 자릿수를 영단어로 바꾸는 예시입니다.\n",
        "\n",
        "1478 → \"one4seveneight\"  \n",
        "234567 → \"23four5six7\"  \n",
        "10203 → \"1zerotwozero3\"    \n",
        "\n",
        "이렇게 숫자의 일부 자릿수가 영단어로 바뀌어졌거나,   \n",
        "혹은 바뀌지 않고 그대로인 문자열 s가 주어졌을때\n",
        "s가 의미하는 원래 숫자를 출력하도록 코드를 작성해주세요\n",
        "\n",
        "s = \"77three4one\n",
        "\n",
        "---\n",
        "참고로 각 숫자에 대응되는 영단어는 다음 표와 같습니다.\n",
        "\n",
        "숫자\t영단어  \n",
        "0\tzero  \n",
        "1\tone  \n",
        "2\ttwo  \n",
        "3\tthree  \n",
        "4\tfour  \n",
        "5\tfive  \n",
        "6\tsix  \n",
        "7\tseven  \n",
        "8\teight  \n",
        "9\tnine  "
      ]
    },
    {
      "cell_type": "code",
      "execution_count": 2,
      "metadata": {
        "id": "2NmqRFgDvFtz",
        "colab": {
          "base_uri": "https://localhost:8080/"
        },
        "outputId": "6c2763aa-b29c-4c8e-ce6d-b5e817ee75df"
      },
      "outputs": [
        {
          "output_type": "stream",
          "name": "stdout",
          "text": [
            "77341\n"
          ]
        }
      ],
      "source": [
        "s = \"77three4one\"\n",
        "\n",
        "num_dic = {\"zero\":\"0\", \"one\":\"1\", \"two\":\"2\", \"three\":\"3\", \"four\":\"4\", \"five\":\"5\", \"six\":\"6\", \"seven\":\"7\", \"eight\":\"8\", \"nine\":\"9\"}\n",
        "\n",
        "for word, digit in num_dic.items():\n",
        "    s = s.replace(word, digit)\n",
        "result = int(s)\n",
        "print(result)"
      ]
    },
    {
      "cell_type": "markdown",
      "metadata": {
        "id": "LSaaCowGzXBs"
      },
      "source": [
        "---"
      ]
    },
    {
      "cell_type": "markdown",
      "metadata": {
        "id": "J0Tha6AdvGL3"
      },
      "source": [
        "__[문제4]__\n",
        "\n",
        "행렬의 덧셈은 행과 열의 크기가 같은 두 행렬의 같은 행, 같은 열의 값을 서로 더한 결과가 됩니다.\n",
        "\n",
        " 행렬 arr1과 arr2가 주어졌을 때, 행렬 덧셈의 결과를 출력하는 코드를 작성해주세요(result와 같은 결과가 출력되도록 작성)\n",
        "\n",
        "arr1 = [[1,2],[2,3]]\n",
        "\n",
        "arr2 = [[3,4],[5,6]]\n",
        "\n",
        "result = [[4,6],[7,9]]"
      ]
    },
    {
      "cell_type": "code",
      "execution_count": 4,
      "metadata": {
        "id": "ujiXrEhJvIV0",
        "colab": {
          "base_uri": "https://localhost:8080/"
        },
        "outputId": "4a95da7f-6474-4d5a-c412-655b49e1dd07"
      },
      "outputs": [
        {
          "output_type": "stream",
          "name": "stdout",
          "text": [
            "[[4, 6], [7, 9]]\n"
          ]
        }
      ],
      "source": [
        "arr1 = [[1,2],[2,3]]\n",
        "arr2 = [[3,4],[5,6]]\n",
        "\n",
        "rows = len(arr1)\n",
        "cols = len(arr1[0])\n",
        "result = [[0 for _ in range(cols)] for _ in range(rows)]\n",
        "\n",
        "for i in range(rows):\n",
        "    for j in range(cols):\n",
        "        result[i][j] = arr1[i][j] + arr2[i][j]\n",
        "\n",
        "print(result)\n",
        "\n"
      ]
    },
    {
      "cell_type": "markdown",
      "metadata": {
        "id": "Klz93AE0zXBs"
      },
      "source": [
        "---"
      ]
    },
    {
      "cell_type": "markdown",
      "metadata": {
        "id": "eLdrWVkavJEN"
      },
      "source": [
        "__[문제5]__\n",
        "\n",
        "양의 정수 x가 하샤드 수이려면 x의 자릿수의 합으로 x가 나누어져야 합니다.   \n",
        "예를 들어 18의 자릿수 합은 1+8=9이고, 18은 9로 나누어 떨어지므로 18은 하샤드 수입니다.   \n",
        "주어진 x를 이용해 x가 하샤드 수인지 아닌지 검사하는 코드를 작성해주세요\n",
        "\n",
        "x = 17\n",
        "\n",
        "----\n",
        "\n",
        "입출력 예시\n",
        "x\t결과값  \n",
        "10\ttrue  \n",
        "12\ttrue  \n",
        "11\tfalse  \n",
        "13\tfalse  "
      ]
    },
    {
      "cell_type": "code",
      "execution_count": 5,
      "metadata": {
        "id": "EULD-IOrvKmG",
        "colab": {
          "base_uri": "https://localhost:8080/"
        },
        "outputId": "bdb3e21e-446f-4ef7-9f7e-cedaaa802aaa"
      },
      "outputs": [
        {
          "output_type": "stream",
          "name": "stdout",
          "text": [
            "False\n"
          ]
        }
      ],
      "source": [
        "x = 17\n",
        "\n",
        "digit_sum = sum = 0\n",
        "\n",
        "for digit in str(x):\n",
        "    digit_sum += int(digit)\n",
        "\n",
        "if x % digit_sum == 0:\n",
        "    result = True\n",
        "else:\n",
        "    result = False\n",
        "\n",
        "print(result)"
      ]
    },
    {
      "cell_type": "markdown",
      "metadata": {
        "id": "bJMrwwvPzXBt"
      },
      "source": [
        "---"
      ]
    },
    {
      "cell_type": "markdown",
      "metadata": {
        "id": "GeS6hZhivLMZ"
      },
      "source": [
        "__[문제6]__\n",
        "\n",
        "String형 배열 seoul의 element중 \"Kim\"의 인덱스 x를 찾아, \"김서방은 x에 있다\"는 String을 출력하는 코드를 작성해주세요.   \n",
        "\n",
        "seoul에 \"Kim\"은 오직 한 번만 나타나며 잘못된 값이 입력되는 경우는 없습니다.\n",
        "\n",
        "seoul = [\"Jane\", \"Kim\"]\n",
        "\n",
        "<br>\n",
        "출력 예) \"김서방은 1에 있다\""
      ]
    },
    {
      "cell_type": "code",
      "execution_count": 8,
      "metadata": {
        "id": "e4LXat3BvRRg",
        "colab": {
          "base_uri": "https://localhost:8080/"
        },
        "outputId": "7f0b22ae-5a8b-4d65-e15f-0d89a713b797"
      },
      "outputs": [
        {
          "output_type": "stream",
          "name": "stdout",
          "text": [
            "김서방은 1에 있다\n"
          ]
        }
      ],
      "source": [
        "seoul = [\"Jane\", \"Kim\"]\n",
        "\n",
        "kim_index = seoul.index(\"Kim\")\n",
        "\n",
        "answer = f\"김서방은 {kim_index}에 있다\"\n",
        "\n",
        "print(answer)\n"
      ]
    },
    {
      "cell_type": "markdown",
      "metadata": {
        "id": "soxiuIwjzXBt"
      },
      "source": [
        "---"
      ]
    },
    {
      "cell_type": "markdown",
      "metadata": {
        "id": "iZjKl-ZqvOkm"
      },
      "source": [
        "__[문제7]__\n",
        "\n",
        "0부터 9까지의 숫자 중 일부가 들어있는 정수 배열 numbers가 주어집니다.   \n",
        "numbers에서 찾을 수 없는 0부터 9까지의 숫자를 모두 찾아 더한 수를 출력해주세요\n",
        "\n",
        "numbers = [5,8,1,0,6,9]"
      ]
    },
    {
      "cell_type": "code",
      "execution_count": 16,
      "metadata": {
        "id": "598DAkIHvQav",
        "colab": {
          "base_uri": "https://localhost:8080/"
        },
        "outputId": "3bdb8cf2-d515-4515-f80e-b43e3ffb195e"
      },
      "outputs": [
        {
          "output_type": "stream",
          "name": "stdout",
          "text": [
            "16\n"
          ]
        }
      ],
      "source": [
        "del sum\n",
        "\n",
        "def solution(numbers):\n",
        "    return sum(set(range(10)) - set(numbers))\n",
        "\n",
        "numbers = [5, 8, 1, 0, 6, 9]\n",
        "print(solution(numbers))\n"
      ]
    }
  ],
  "metadata": {
    "colab": {
      "provenance": []
    },
    "kernelspec": {
      "display_name": "Python 3",
      "name": "python3"
    },
    "language_info": {
      "codemirror_mode": {
        "name": "ipython",
        "version": 3
      },
      "file_extension": ".py",
      "mimetype": "text/x-python",
      "name": "python",
      "nbconvert_exporter": "python",
      "pygments_lexer": "ipython3",
      "version": "3.11.7"
    }
  },
  "nbformat": 4,
  "nbformat_minor": 0
}